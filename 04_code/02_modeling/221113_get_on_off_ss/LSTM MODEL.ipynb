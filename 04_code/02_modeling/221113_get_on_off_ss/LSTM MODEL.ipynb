{
 "cells": [
  {
   "cell_type": "markdown",
   "id": "0fbd536d",
   "metadata": {},
   "source": [
    "# LSTM "
   ]
  },
  {
   "cell_type": "markdown",
   "id": "b892cfbc",
   "metadata": {},
   "source": [
    "## [1] 데이터 로딩"
   ]
  },
  {
   "cell_type": "code",
   "execution_count": 1,
   "id": "b4edfb10",
   "metadata": {},
   "outputs": [],
   "source": [
    "import json\n",
    "import pandas as pd\n",
    "import os\n",
    "import matplotlib.pyplot as plt"
   ]
  },
  {
   "cell_type": "code",
   "execution_count": 2,
   "id": "bbb1511c",
   "metadata": {},
   "outputs": [],
   "source": [
    "path = 'C:/Users/USER/Desktop/data2/Validation/[라벨]General_val_A/district/'"
   ]
  },
  {
   "cell_type": "code",
   "execution_count": 3,
   "id": "3ae93659",
   "metadata": {},
   "outputs": [],
   "source": [
    "keypoints = []\n",
    "get_on = []\n",
    "get_off = []\n",
    "\n",
    "for i in os.listdir(path):\n",
    "    os.listdir(path+i)\n",
    "    file_list = os.listdir(path+i)\n",
    "       \n",
    "    for a in file_list:\n",
    "        with open ((path+i+'/'+a),\"r\") as j:\n",
    "            contents = json.loads(j.read())\n",
    "            if len(contents['annotations']) != 0:\n",
    "                keypoints.append(contents['annotations'][0]['keypoints'])\n",
    "                get_on.append(contents['annotations'][0]['get_on'])\n",
    "                get_off.append(contents['annotations'][0]['get_off'])        "
   ]
  },
  {
   "cell_type": "code",
   "execution_count": 4,
   "id": "a122d1c9",
   "metadata": {},
   "outputs": [],
   "source": [
    "# file_list = os.listdir(path)\n",
    "# file_list_py = [file for file in file_list if file.endswith('.json')] ## 파일명 끝이 .json인 경우"
   ]
  },
  {
   "cell_type": "code",
   "execution_count": 5,
   "id": "b66f67b1",
   "metadata": {},
   "outputs": [],
   "source": [
    "df = pd.DataFrame({'keypoints':keypoints,\n",
    "                   'get_on':get_on,\n",
    "                   'get_off':get_off})"
   ]
  },
  {
   "cell_type": "markdown",
   "id": "7ed85385",
   "metadata": {},
   "source": [
    "## [2] 데이터 전처리"
   ]
  },
  {
   "cell_type": "code",
   "execution_count": 6,
   "id": "d72770a7",
   "metadata": {
    "scrolled": true
   },
   "outputs": [],
   "source": [
    "get = []\n",
    "for i in range(len(get_on)):\n",
    "    if (df['get_on'][i] == False) and (df['get_off'][i] == False):\n",
    "        get.append(2)\n",
    "    elif (df['get_on'][i] == True) and (df['get_off'][i] == False):\n",
    "        get.append(1)\n",
    "    else:\n",
    "        get.append(0)"
   ]
  },
  {
   "cell_type": "code",
   "execution_count": 7,
   "id": "1f43fd83",
   "metadata": {},
   "outputs": [],
   "source": [
    "df['get'] = get"
   ]
  },
  {
   "cell_type": "code",
   "execution_count": 8,
   "id": "1d5095db",
   "metadata": {},
   "outputs": [
    {
     "data": {
      "text/plain": [
       "0         True\n",
       "1         True\n",
       "2         True\n",
       "3         True\n",
       "4         True\n",
       "         ...  \n",
       "16488    False\n",
       "16489    False\n",
       "16490    False\n",
       "16491    False\n",
       "16492    False\n",
       "Name: get_off, Length: 16493, dtype: bool"
      ]
     },
     "execution_count": 8,
     "metadata": {},
     "output_type": "execute_result"
    }
   ],
   "source": [
    "df['get_off']"
   ]
  },
  {
   "cell_type": "code",
   "execution_count": 9,
   "id": "a185a93b",
   "metadata": {},
   "outputs": [],
   "source": [
    "import numpy as np"
   ]
  },
  {
   "cell_type": "code",
   "execution_count": 10,
   "id": "d39642cb",
   "metadata": {},
   "outputs": [
    {
     "data": {
      "text/plain": [
       "16493"
      ]
     },
     "execution_count": 10,
     "metadata": {},
     "output_type": "execute_result"
    }
   ],
   "source": [
    "len(keypoints)"
   ]
  },
  {
   "cell_type": "code",
   "execution_count": 11,
   "id": "79b423fb",
   "metadata": {},
   "outputs": [],
   "source": [
    "keypoints = np.array(keypoints)"
   ]
  },
  {
   "cell_type": "code",
   "execution_count": 12,
   "id": "6f9f7703",
   "metadata": {},
   "outputs": [
    {
     "data": {
      "text/plain": [
       "(16493, 48)"
      ]
     },
     "execution_count": 12,
     "metadata": {},
     "output_type": "execute_result"
    }
   ],
   "source": [
    "keypoints.shape"
   ]
  },
  {
   "cell_type": "code",
   "execution_count": 13,
   "id": "ada52a7f",
   "metadata": {},
   "outputs": [],
   "source": [
    "keypoints = keypoints.reshape(-1,16,3)"
   ]
  },
  {
   "cell_type": "code",
   "execution_count": 14,
   "id": "e598912e",
   "metadata": {},
   "outputs": [
    {
     "data": {
      "text/plain": [
       "(16493, 16, 3)"
      ]
     },
     "execution_count": 14,
     "metadata": {},
     "output_type": "execute_result"
    }
   ],
   "source": [
    "keypoints.shape"
   ]
  },
  {
   "cell_type": "code",
   "execution_count": 15,
   "id": "224ec333",
   "metadata": {},
   "outputs": [],
   "source": [
    "from tensorflow.keras.utils import to_categorical\n",
    "y = to_categorical(get, num_classes=3)"
   ]
  },
  {
   "cell_type": "code",
   "execution_count": 16,
   "id": "9de7cf07",
   "metadata": {
    "scrolled": true
   },
   "outputs": [
    {
     "data": {
      "text/plain": [
       "(16493, 3)"
      ]
     },
     "execution_count": 16,
     "metadata": {},
     "output_type": "execute_result"
    }
   ],
   "source": [
    "y.shape"
   ]
  },
  {
   "cell_type": "code",
   "execution_count": 17,
   "id": "961950a5",
   "metadata": {},
   "outputs": [],
   "source": [
    "from sklearn.model_selection import train_test_split"
   ]
  },
  {
   "cell_type": "code",
   "execution_count": 18,
   "id": "95781f47",
   "metadata": {},
   "outputs": [],
   "source": [
    "x_train,x_test,y_train,y_test=train_test_split(keypoints,y,test_size=0.2,random_state=42)"
   ]
  },
  {
   "cell_type": "markdown",
   "id": "b0564e38",
   "metadata": {},
   "source": [
    "## [3] 모델 생성"
   ]
  },
  {
   "cell_type": "code",
   "execution_count": 19,
   "id": "9475bb42",
   "metadata": {},
   "outputs": [],
   "source": [
    "import tensorflow as tf"
   ]
  },
  {
   "cell_type": "code",
   "execution_count": 20,
   "id": "ff8ba9a3",
   "metadata": {},
   "outputs": [],
   "source": [
    "from keras.models import Sequential\n",
    "from keras.layers import Dense\n",
    "from tensorflow.keras.optimizers import Adam,SGD,RMSprop,Adagrad\n",
    "from tensorflow.keras.callbacks import EarlyStopping\n",
    "\n",
    "from keras.layers import Dropout, Flatten, LSTM, Bidirectional\n",
    "from keras.layers import Conv2D, MaxPooling2D, Conv3D, MaxPool2D"
   ]
  },
  {
   "cell_type": "markdown",
   "id": "1579ac9d",
   "metadata": {},
   "source": [
    "### LSTM MODEL"
   ]
  },
  {
   "cell_type": "code",
   "execution_count": 21,
   "id": "13b0400d",
   "metadata": {},
   "outputs": [],
   "source": [
    "# 검증 데이터에 대한 loss 값이 3번 연속 개선되지 않으면 학습 중지\n",
    "stopCB = EarlyStopping(monitor='val_loss', patience=3)"
   ]
  },
  {
   "cell_type": "code",
   "execution_count": 22,
   "id": "6cb999de",
   "metadata": {},
   "outputs": [
    {
     "name": "stdout",
     "output_type": "stream",
     "text": [
      "Model: \"sequential\"\n",
      "_________________________________________________________________\n",
      " Layer (type)                Output Shape              Param #   \n",
      "=================================================================\n",
      " lstm (LSTM)                 (None, 100)               41600     \n",
      "                                                                 \n",
      " dense (Dense)               (None, 50)                5050      \n",
      "                                                                 \n",
      " dense_1 (Dense)             (None, 3)                 153       \n",
      "                                                                 \n",
      "=================================================================\n",
      "Total params: 46,803\n",
      "Trainable params: 46,803\n",
      "Non-trainable params: 0\n",
      "_________________________________________________________________\n"
     ]
    }
   ],
   "source": [
    "model = Sequential()\n",
    "model.add(LSTM(100, activation = 'tanh', input_shape=(16,3)))\n",
    "model.add(Dense(50))\n",
    "model.add(Dense(3, activation='softmax'))\n",
    "model.summary()\n",
    " \n",
    "# 3. 실행\n",
    "model.compile(optimizer='adam', loss='categorical_crossentropy', metrics=['accuracy'])"
   ]
  },
  {
   "cell_type": "code",
   "execution_count": 23,
   "id": "7220dcf9",
   "metadata": {
    "scrolled": true
   },
   "outputs": [
    {
     "name": "stdout",
     "output_type": "stream",
     "text": [
      "Epoch 1/30\n",
      "83/83 [==============================] - 10s 55ms/step - loss: 0.7912 - accuracy: 0.6058 - val_loss: 0.7784 - val_accuracy: 0.6256\n",
      "Epoch 2/30\n",
      "83/83 [==============================] - 3s 39ms/step - loss: 0.7716 - accuracy: 0.6117 - val_loss: 0.7695 - val_accuracy: 0.6328\n",
      "Epoch 3/30\n",
      "83/83 [==============================] - 3s 40ms/step - loss: 0.7663 - accuracy: 0.6152 - val_loss: 0.7781 - val_accuracy: 0.6150\n",
      "Epoch 4/30\n",
      "83/83 [==============================] - 3s 39ms/step - loss: 0.7624 - accuracy: 0.6226 - val_loss: 0.7598 - val_accuracy: 0.6461\n",
      "Epoch 5/30\n",
      "83/83 [==============================] - 3s 39ms/step - loss: 0.7507 - accuracy: 0.6331 - val_loss: 0.7405 - val_accuracy: 0.6620\n",
      "Epoch 6/30\n",
      "83/83 [==============================] - 3s 39ms/step - loss: 0.7374 - accuracy: 0.6458 - val_loss: 0.7447 - val_accuracy: 0.6370\n",
      "Epoch 7/30\n",
      "83/83 [==============================] - 3s 39ms/step - loss: 0.7386 - accuracy: 0.6386 - val_loss: 0.7492 - val_accuracy: 0.6400\n",
      "Epoch 8/30\n",
      "83/83 [==============================] - 3s 37ms/step - loss: 0.7315 - accuracy: 0.6432 - val_loss: 0.7202 - val_accuracy: 0.6620\n",
      "Epoch 9/30\n",
      "83/83 [==============================] - 3s 38ms/step - loss: 0.7240 - accuracy: 0.6498 - val_loss: 0.7634 - val_accuracy: 0.6059\n",
      "Epoch 10/30\n",
      "83/83 [==============================] - 3s 38ms/step - loss: 0.7246 - accuracy: 0.6477 - val_loss: 0.7216 - val_accuracy: 0.6590\n",
      "Epoch 11/30\n",
      "83/83 [==============================] - 3s 38ms/step - loss: 0.7193 - accuracy: 0.6534 - val_loss: 0.7229 - val_accuracy: 0.6681\n"
     ]
    }
   ],
   "source": [
    "hist = model.fit(x_train,y_train,epochs=30,batch_size=128,validation_split=0.2,callbacks=[stopCB])"
   ]
  },
  {
   "cell_type": "code",
   "execution_count": 24,
   "id": "1a3cede5",
   "metadata": {},
   "outputs": [
    {
     "name": "stdout",
     "output_type": "stream",
     "text": [
      "104/104 [==============================] - 1s 7ms/step - loss: 0.7091 - accuracy: 0.6554\n"
     ]
    },
    {
     "data": {
      "text/plain": [
       "[0.7090833783149719, 0.6553500890731812]"
      ]
     },
     "execution_count": 24,
     "metadata": {},
     "output_type": "execute_result"
    }
   ],
   "source": [
    "model.evaluate(x_test,y_test)"
   ]
  },
  {
   "cell_type": "markdown",
   "id": "9b4ee764",
   "metadata": {},
   "source": [
    "### 양방향 LSTM MODEL"
   ]
  },
  {
   "cell_type": "code",
   "execution_count": 25,
   "id": "7b34a25d",
   "metadata": {},
   "outputs": [],
   "source": [
    "model2 = Sequential()\n",
    "model2.add(Bidirectional(LSTM(50, activation = 'tanh', input_shape=(16,3))))\n",
    "model2.add(Bidirectional(LSTM(50)))\n",
    "model2.add(Dense(30))\n",
    "model2.add(Dense(3, activation='softmax'))\n",
    "model2.compile(optimizer='rmsprop', loss='categorical_crossentropy', metrics=['accuracy'])\n",
    "\n",
    "model2 = Sequential()\n",
    "forward_layer = LSTM(50)\n",
    "backward_layer = LSTM(50, activation='tanh', go_backwards=True)\n",
    "model2.add(Bidirectional(forward_layer, backward_layer=backward_layer, input_shape=(16,3)))\n",
    "model2.add(Dense(30))\n",
    "model2.add(Dense(3, activation='softmax'))\n",
    "model2.compile(optimizer='rmsprop', loss='categorical_crossentropy', metrics=['accuracy'])"
   ]
  },
  {
   "cell_type": "code",
   "execution_count": 26,
   "id": "95fdf60c",
   "metadata": {},
   "outputs": [
    {
     "name": "stdout",
     "output_type": "stream",
     "text": [
      "Model: \"sequential_2\"\n",
      "_________________________________________________________________\n",
      " Layer (type)                Output Shape              Param #   \n",
      "=================================================================\n",
      " bidirectional_2 (Bidirectio  (None, 100)              21600     \n",
      " nal)                                                            \n",
      "                                                                 \n",
      " dense_4 (Dense)             (None, 30)                3030      \n",
      "                                                                 \n",
      " dense_5 (Dense)             (None, 3)                 93        \n",
      "                                                                 \n",
      "=================================================================\n",
      "Total params: 24,723\n",
      "Trainable params: 24,723\n",
      "Non-trainable params: 0\n",
      "_________________________________________________________________\n"
     ]
    }
   ],
   "source": [
    "model2.summary()"
   ]
  },
  {
   "cell_type": "code",
   "execution_count": 27,
   "id": "32910958",
   "metadata": {
    "scrolled": true
   },
   "outputs": [
    {
     "name": "stdout",
     "output_type": "stream",
     "text": [
      "Epoch 1/30\n",
      "83/83 [==============================] - 14s 55ms/step - loss: 0.7853 - accuracy: 0.6067 - val_loss: 0.7684 - val_accuracy: 0.6116\n",
      "Epoch 2/30\n",
      "83/83 [==============================] - 2s 26ms/step - loss: 0.7632 - accuracy: 0.6137 - val_loss: 0.7610 - val_accuracy: 0.6355\n",
      "Epoch 3/30\n",
      "83/83 [==============================] - 2s 26ms/step - loss: 0.7554 - accuracy: 0.6147 - val_loss: 0.7537 - val_accuracy: 0.6396\n",
      "Epoch 4/30\n",
      "83/83 [==============================] - 2s 26ms/step - loss: 0.7511 - accuracy: 0.6147 - val_loss: 0.7588 - val_accuracy: 0.6252\n",
      "Epoch 5/30\n",
      "83/83 [==============================] - 2s 23ms/step - loss: 0.7458 - accuracy: 0.6212 - val_loss: 0.7542 - val_accuracy: 0.6264\n",
      "Epoch 6/30\n",
      "83/83 [==============================] - 2s 24ms/step - loss: 0.7420 - accuracy: 0.6289 - val_loss: 0.7408 - val_accuracy: 0.6415\n",
      "Epoch 7/30\n",
      "83/83 [==============================] - 2s 26ms/step - loss: 0.7298 - accuracy: 0.6328 - val_loss: 0.7361 - val_accuracy: 0.6484\n",
      "Epoch 8/30\n",
      "83/83 [==============================] - 2s 24ms/step - loss: 0.7247 - accuracy: 0.6388 - val_loss: 0.7228 - val_accuracy: 0.6772\n",
      "Epoch 9/30\n",
      "83/83 [==============================] - 2s 26ms/step - loss: 0.7234 - accuracy: 0.6392 - val_loss: 0.7173 - val_accuracy: 0.6734\n",
      "Epoch 10/30\n",
      "83/83 [==============================] - 2s 23ms/step - loss: 0.7180 - accuracy: 0.6421 - val_loss: 0.7055 - val_accuracy: 0.6749\n",
      "Epoch 11/30\n",
      "83/83 [==============================] - 2s 24ms/step - loss: 0.7116 - accuracy: 0.6457 - val_loss: 0.7183 - val_accuracy: 0.6476\n",
      "Epoch 12/30\n",
      "83/83 [==============================] - 2s 26ms/step - loss: 0.7098 - accuracy: 0.6487 - val_loss: 0.7237 - val_accuracy: 0.6518\n",
      "Epoch 13/30\n",
      "83/83 [==============================] - 2s 24ms/step - loss: 0.7099 - accuracy: 0.6486 - val_loss: 0.7219 - val_accuracy: 0.6707\n"
     ]
    }
   ],
   "source": [
    "hist2 = model2.fit(x_train,y_train,epochs=30,batch_size=128,validation_split=0.2,callbacks=[stopCB])"
   ]
  },
  {
   "cell_type": "markdown",
   "id": "95e18751",
   "metadata": {},
   "source": [
    "## [4] 모델 평가"
   ]
  },
  {
   "cell_type": "code",
   "execution_count": 28,
   "id": "8a47f790",
   "metadata": {},
   "outputs": [
    {
     "data": {
      "image/png": "[encoded data removed]",
      "text/plain": [
       "<Figure size 432x288 with 1 Axes>"
      ]
     },
     "metadata": {
      "needs_background": "light"
     },
     "output_type": "display_data"
    }
   ],
   "source": [
    "plt.plot(hist.history['val_loss'], color='b', label=\"validation loss\")\n",
    "plt.plot(hist.history['loss'], color='red', label=\"loss\")\n",
    "plt.title(\"Model Loss\")\n",
    "plt.xlabel(\"Number of Epochs\")\n",
    "plt.ylabel(\"Loss\")\n",
    "plt.legend()\n",
    "plt.show()"
   ]
  },
  {
   "cell_type": "code",
   "execution_count": 29,
   "id": "70d97cbe",
   "metadata": {},
   "outputs": [
    {
     "data": {
      "image/png": "[encoded data removed]",
      "text/plain": [
       "<Figure size 432x288 with 1 Axes>"
      ]
     },
     "metadata": {
      "needs_background": "light"
     },
     "output_type": "display_data"
    }
   ],
   "source": [
    "plt.plot(hist.history['val_accuracy'], color='b', label=\"validation accuracy\")\n",
    "plt.plot(hist.history['accuracy'], color='red', label=\"accuracy\")\n",
    "plt.title(\"Model Accuracy\")\n",
    "plt.xlabel(\"Number of Epochs\")\n",
    "plt.ylabel(\"Loss\")\n",
    "plt.legend()\n",
    "plt.show()"
   ]
  },
  {
   "cell_type": "code",
   "execution_count": 30,
   "id": "badc8ff0",
   "metadata": {},
   "outputs": [],
   "source": [
    "test_data = [\n",
    "                1119,\n",
    "                525,\n",
    "                2,\n",
    "                1134,\n",
    "                428,\n",
    "                2,\n",
    "                1233,\n",
    "                414,\n",
    "                1,\n",
    "                1283,\n",
    "                445,\n",
    "                1,\n",
    "                1217,\n",
    "                519,\n",
    "                2,\n",
    "                1161,\n",
    "                695,\n",
    "                2,\n",
    "                1254,\n",
    "                428,\n",
    "                1,\n",
    "                1259,\n",
    "                331,\n",
    "                2,\n",
    "                1246,\n",
    "                244,\n",
    "                2,\n",
    "                1207,\n",
    "                206,\n",
    "                2,\n",
    "                1155,\n",
    "                386,\n",
    "                1,\n",
    "                1230,\n",
    "                367,\n",
    "                1,\n",
    "                1281,\n",
    "                224,\n",
    "                2,\n",
    "                1249,\n",
    "                296,\n",
    "                2,\n",
    "                1230,\n",
    "                388,\n",
    "                2,\n",
    "                1115,\n",
    "                351,\n",
    "                2\n",
    "            ]"
   ]
  },
  {
   "cell_type": "code",
   "execution_count": 31,
   "id": "237c8b41",
   "metadata": {},
   "outputs": [
    {
     "name": "stdout",
     "output_type": "stream",
     "text": [
      "1/1 [==============================] - 2s 2s/step\n"
     ]
    },
    {
     "data": {
      "text/plain": [
       "array([[0.33817637, 0.01976158, 0.64206207]], dtype=float32)"
      ]
     },
     "execution_count": 31,
     "metadata": {},
     "output_type": "execute_result"
    }
   ],
   "source": [
    "model2.predict(np.array(test_data).reshape(-1,16,3))"
   ]
  },
  {
   "cell_type": "code",
   "execution_count": 32,
   "id": "d91f1b99",
   "metadata": {},
   "outputs": [
    {
     "name": "stdout",
     "output_type": "stream",
     "text": [
      "104/104 [==============================] - 1s 6ms/step - loss: 0.7150 - accuracy: 0.6544\n"
     ]
    },
    {
     "data": {
      "text/plain": [
       "[0.7149749398231506, 0.6544407606124878]"
      ]
     },
     "execution_count": 32,
     "metadata": {},
     "output_type": "execute_result"
    }
   ],
   "source": [
    "model2.evaluate(x_test,y_test)"
   ]
  },
  {
   "cell_type": "code",
   "execution_count": null,
   "id": "95ed05d0",
   "metadata": {},
   "outputs": [],
   "source": []
  }
 ],
 "metadata": {
  "kernelspec": {
   "display_name": "Python 3 (ipykernel)",
   "language": "python",
   "name": "python3"
  },
  "language_info": {
   "codemirror_mode": {
    "name": "ipython",
    "version": 3
   },
   "file_extension": ".py",
   "mimetype": "text/x-python",
   "name": "python",
   "nbconvert_exporter": "python",
   "pygments_lexer": "ipython3",
   "version": "3.9.12"
  },
  "vscode": {
   "interpreter": {
    "hash": "263930470851f494f0ed2879c35b57985588df20f9e529b86e97dd5eb9ddc466"
   }
  }
 },
 "nbformat": 4,
 "nbformat_minor": 5
}
